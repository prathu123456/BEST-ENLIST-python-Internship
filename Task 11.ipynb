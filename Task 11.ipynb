{
 "cells": [
  {
   "cell_type": "markdown",
   "metadata": {},
   "source": [
    "Exercise"
   ]
  },
  {
   "cell_type": "markdown",
   "metadata": {},
   "source": [
    "1) Write a program using zip() function and list() function, create a merged list of tuples from the two lists given."
   ]
  },
  {
   "cell_type": "code",
   "execution_count": 1,
   "metadata": {},
   "outputs": [
    {
     "name": "stdout",
     "output_type": "stream",
     "text": [
      "List 1 =  [6, 9, 4, 8]\n",
      "List 2 =  [7, 3, 2, 1]\n",
      "[(6, 7), (9, 3), (4, 2), (8, 1)]\n"
     ]
    }
   ],
   "source": [
    "a1 = [6, 9, 4, 8]\n",
    "b1 = [7, 3, 2, 1]\n",
    "print(\"List 1 = \",a1)\n",
    "print(\"List 2 = \",b1)\n",
    "c = list(zip(a1, b1))\n",
    "print(c)"
   ]
  },
  {
   "cell_type": "markdown",
   "metadata": {},
   "source": [
    "2) First create a range from 1 to 8. Then using zip, merge the given list and the range together to create a new list of tuples."
   ]
  },
  {
   "cell_type": "code",
   "execution_count": 2,
   "metadata": {},
   "outputs": [
    {
     "name": "stdout",
     "output_type": "stream",
     "text": [
      "List :  ['Rose', 'Lotus', 'Marigold', 'Jasmine', 'Sun Flower']\n",
      "[(1, 'Rose'), (2, 'Lotus'), (3, 'Marigold'), (4, 'Jasmine'), (5, 'Sun Flower')]\n"
     ]
    }
   ],
   "source": [
    "range2 = list(range(1,8))\n",
    "a = [\"Rose\",\"Lotus\",\"Marigold\",\"Jasmine\",\"Sun Flower\"]\n",
    "print(\"List : \",a)\n",
    "b = list(zip(range2,a))\n",
    "print(b)"
   ]
  },
  {
   "cell_type": "markdown",
   "metadata": {},
   "source": [
    "3) Using sorted() function, sort the list in ascending order."
   ]
  },
  {
   "cell_type": "code",
   "execution_count": 3,
   "metadata": {},
   "outputs": [
    {
     "name": "stdout",
     "output_type": "stream",
     "text": [
      "List :  [1, 4, 2, 7, 5, 9, 6, 3]\n",
      "Sorted List :  [1, 2, 3, 4, 5, 6, 7, 9]\n"
     ]
    }
   ],
   "source": [
    "a = [1, 4, 2, 7, 5, 9, 6, 3]\n",
    "print(\"List : \",a)\n",
    "x = sorted(a)\n",
    "print(\"Sorted List : \",x)"
   ]
  },
  {
   "cell_type": "markdown",
   "metadata": {},
   "source": [
    "4) Write a program using filter function, filter the even numbers so that only odd numbers are passed to the new list."
   ]
  },
  {
   "cell_type": "code",
   "execution_count": 4,
   "metadata": {},
   "outputs": [
    {
     "name": "stdout",
     "output_type": "stream",
     "text": [
      "List =  [1, 5, 8, 6, 9, 16, 45, 89, 63]\n",
      "New List :  [1, 5, 9, 45, 89, 63]\n"
     ]
    }
   ],
   "source": [
    "List = [1, 5, 8, 6, 9, 16, 45, 89, 63]\n",
    "print(\"List = \",List)\n",
    "result = filter(lambda x: x % 2,List)\n",
    "print(\"New List : \",list(result))"
   ]
  },
  {
   "cell_type": "code",
   "execution_count": null,
   "metadata": {},
   "outputs": [],
   "source": []
  }
 ],
 "metadata": {
  "kernelspec": {
   "display_name": "Python 3",
   "language": "python",
   "name": "python3"
  },
  "language_info": {
   "codemirror_mode": {
    "name": "ipython",
    "version": 3
   },
   "file_extension": ".py",
   "mimetype": "text/x-python",
   "name": "python",
   "nbconvert_exporter": "python",
   "pygments_lexer": "ipython3",
   "version": "3.8.5"
  }
 },
 "nbformat": 4,
 "nbformat_minor": 4
}
