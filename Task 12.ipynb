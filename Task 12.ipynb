{
 "cells": [
  {
   "cell_type": "markdown",
   "metadata": {},
   "source": [
    "# EXERCISE"
   ]
  },
  {
   "cell_type": "markdown",
   "metadata": {},
   "source": [
    "1.Create a JSON of all object types and import\n",
    "the JSON into a SQL Database\n",
    "Note: The JSON file should have valus of all\n",
    "Datatypes"
   ]
  },
  {
   "cell_type": "code",
   "execution_count": 1,
   "metadata": {},
   "outputs": [
    {
     "name": "stdout",
     "output_type": "stream",
     "text": [
      "     Name  Age    Address Qualification\n",
      "0     Roy   25      Delhi           Phd\n",
      "1  Shayam   29     Mumbai           Msc\n",
      "2   Sahil   36  Allahabad            MA\n",
      "3   James   28    Chennai           MCA\n"
     ]
    }
   ],
   "source": [
    "import pandas as pd\n",
    "import json\n",
    "data = {'Name':['Roy', 'Shayam', 'Sahil', 'James'],\n",
    "        'Age':[25, 29, 36, 28],\n",
    "        'Address':['Delhi', 'Mumbai', 'Allahabad', 'Chennai'],\n",
    "        'Qualification':['Phd', 'Msc', 'MA', 'MCA']}\n",
    "with open(\"inf.json\",'w') as json_file:\n",
    "    json.dump(data,json_file)\n",
    "with open(\"inf.json\") as i:\n",
    "    data = json.load(i)\n",
    "df = pd.DataFrame(data)\n",
    "print(df)"
   ]
  }
 ],
 "metadata": {
  "kernelspec": {
   "display_name": "Python 3",
   "language": "python",
   "name": "python3"
  },
  "language_info": {
   "codemirror_mode": {
    "name": "ipython",
    "version": 3
   },
   "file_extension": ".py",
   "mimetype": "text/x-python",
   "name": "python",
   "nbconvert_exporter": "python",
   "pygments_lexer": "ipython3",
   "version": "3.8.5"
  }
 },
 "nbformat": 4,
 "nbformat_minor": 4
}
