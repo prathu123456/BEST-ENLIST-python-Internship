{
 "cells": [
  {
   "cell_type": "code",
   "execution_count": 1,
   "metadata": {},
   "outputs": [],
   "source": [
    "from tkinter import *\n",
    "window = Tk()\n",
    "window.title(\"Coffee Machine\")\n",
    "L = Label(window,text = \"COFFEE MACHINE\",font = (\"Cooper Std\", 20), fg = \"white\", bg = \"red\").place(x = 140, y = 0)\n",
    "A = Label(window,text = \"WELCOME\",font = (\"Square721 BT\",20)).place(x = 180, y = 40)\n",
    "window.geometry(\"500x500\")\n",
    "L1 = Label(window, text = \"What would you like?\",font = (\"Swis721 Blk BT\",15),fg = \"black\").place(x = 0, y = 80)\n",
    "button1 = Button(window, text = \"ESPRESSO\",font = (10),fg = \"indigo\").place(x = 80, y = 120)\n",
    "button2 = Button(window, text = \"LATTE\",font = (10),fg = \"blue\").place(x = 190, y = 120)\n",
    "button3 = Button(window, text = \"CAPPUCCINO\",font = (10),fg = \"purple\").place(x = 260, y = 120)\n",
    "button4 = Button(window, text = \"OFF\",font = (10),fg = \"black\",command = window.destroy).place(x = 385, y = 120)\n",
    "n1 = StringVar()\n",
    "n2 = StringVar()\n",
    "n3 = StringVar()\n",
    "n4 = StringVar()\n",
    "L2 = Label(window, text = \"How many coins?\",font = (\"Swis721 Blk BT\",15),fg = \"black\").place(x = 0, y = 160)\n",
    "l1 = Label(window, text = \"How many quarters?\",font = (\"Franklin Gothic\",12)).place(x = 40, y = 200)\n",
    "l2 = Label(window, text = \"How many dimes?\",font = (\"Franklin Gothic\",12)).place(x = 40, y = 240)\n",
    "l3 = Label(window, text = \"How many nickles?\",font = (\"Franklin Gothic\",12)).place(x = 40, y = 290)\n",
    "l4 = Label(window, text = \"How many pennies?\",font = (\"Franklin Gothic\",12)).place(x = 40, y = 330)\n",
    "t1 = Spinbox(window, from_ = 0, to = 100).place(x = 220, y = 200)\n",
    "t2 = Spinbox(window, from_ = 0, to = 100).place(x = 220, y = 240)\n",
    "t3 = Spinbox(window, from_ = 0, to = 100).place(x = 220, y = 290)\n",
    "t4 = Spinbox(window, from_ = 0, to = 100).place(x = 220, y = 330)\n",
    "button5 = Button(window, text = \"ENTER\",fg = \"green\",font = (10)).place(x = 120,y = 400)\n",
    "button6 = Button(window, text = \"CANCEL\",fg = \"green\",font = (10)).place(x = 270,y = 400)\n",
    "window.mainloop()"
   ]
  },
  {
   "cell_type": "code",
   "execution_count": null,
   "metadata": {},
   "outputs": [],
   "source": []
  }
 ],
 "metadata": {
  "kernelspec": {
   "display_name": "Python 3",
   "language": "python",
   "name": "python3"
  },
  "language_info": {
   "codemirror_mode": {
    "name": "ipython",
    "version": 3
   },
   "file_extension": ".py",
   "mimetype": "text/x-python",
   "name": "python",
   "nbconvert_exporter": "python",
   "pygments_lexer": "ipython3",
   "version": "3.8.5"
  }
 },
 "nbformat": 4,
 "nbformat_minor": 4
}
